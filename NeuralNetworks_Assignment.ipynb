{
  "nbformat": 4,
  "nbformat_minor": 0,
  "metadata": {
    "colab": {
      "provenance": []
    },
    "kernelspec": {
      "name": "python3",
      "display_name": "Python 3"
    },
    "language_info": {
      "name": "python"
    }
  },
  "cells": [
    {
      "cell_type": "code",
      "execution_count": 11,
      "metadata": {
        "colab": {
          "base_uri": "https://localhost:8080/"
        },
        "id": "rpW9jgyEbYcq",
        "outputId": "9a6febd2-f498-45ab-da4c-16504047ed3e"
      },
      "outputs": [
        {
          "output_type": "stream",
          "name": "stdout",
          "text": [
            "/content\n",
            "homer_bart.zip\tsample_data\n"
          ]
        }
      ],
      "source": [
        "import tensorflow as tf\n",
        "from tensorflow.keras.layers import Dense,Flatten\n",
        "from tensorflow.keras import Input"
      ]
    },
    {
      "cell_type": "code",
      "source": [
        "dataset = tf.keras.preprocessing.image_dataset_from_directory(\"/content/homer_bart\",image_size=(64, 64),label_mode = \"binary\")"
      ],
      "metadata": {
        "colab": {
          "base_uri": "https://localhost:8080/"
        },
        "id": "C7C_HnXHb8C9",
        "outputId": "0b133636-03e3-46ed-8c1f-3040bc8c87d7"
      },
      "execution_count": 15,
      "outputs": [
        {
          "output_type": "stream",
          "name": "stdout",
          "text": [
            "Found 269 files belonging to 2 classes.\n"
          ]
        }
      ]
    },
    {
      "cell_type": "code",
      "source": [
        "train_data = dataset.take(8)\n",
        "test_data = dataset.skip(8)\n",
        "train_data = train_data.cache().shuffle(1000).prefetch(buffer_size=tf.data.AUTOTUNE)\n",
        "test_data = test_data.cache().shuffle(1000).prefetch(buffer_size=tf.data.AUTOTUNE)"
      ],
      "metadata": {
        "id": "DRXlu37hdxHS"
      },
      "execution_count": 16,
      "outputs": []
    },
    {
      "cell_type": "code",
      "source": [
        "preprocess = tf.keras.Sequential(\n",
        "    [tf.keras.layers.Rescaling(1./255)] # rescaling factor\n",
        ")\n",
        "model = tf.keras.Sequential()\n",
        "model.add(Input((64,64,3)))\n",
        "model.add(Flatten())\n",
        "model.add(preprocess)\n",
        "model.add(Dense(128, activation='relu'))\n",
        "model.add(Dense(64, activation='relu'))\n",
        "model.add(Dense(32, activation='relu'))\n",
        "model.add(Dense(1, activation='sigmoid'))"
      ],
      "metadata": {
        "id": "L7xMz_Zed0VR"
      },
      "execution_count": 18,
      "outputs": []
    },
    {
      "cell_type": "code",
      "source": [
        "model.compile(optimizer='adam',\n",
        "              loss=tf.keras.losses.BinaryCrossentropy(from_logits=False),\n",
        "              metrics=['accuracy'])"
      ],
      "metadata": {
        "id": "CPw-CUWBd1Yz"
      },
      "execution_count": 19,
      "outputs": []
    },
    {
      "cell_type": "code",
      "source": [
        "model.fit(train_data,\n",
        "          epochs = 10,\n",
        "          batch_size = 32,\n",
        "          verbose=1,\n",
        "          validation_data = test_data)"
      ],
      "metadata": {
        "colab": {
          "base_uri": "https://localhost:8080/"
        },
        "id": "IJPC2Nb6d4xf",
        "outputId": "73367477-4fd8-431a-90c9-64d768366fee"
      },
      "execution_count": 23,
      "outputs": [
        {
          "output_type": "stream",
          "name": "stdout",
          "text": [
            "Epoch 1/10\n",
            "8/8 [==============================] - 0s 22ms/step - loss: 0.0282 - accuracy: 1.0000 - val_loss: 0.1106 - val_accuracy: 1.0000\n",
            "Epoch 2/10\n",
            "8/8 [==============================] - 0s 24ms/step - loss: 0.0265 - accuracy: 1.0000 - val_loss: 0.1096 - val_accuracy: 0.9231\n",
            "Epoch 3/10\n",
            "8/8 [==============================] - 0s 22ms/step - loss: 0.0201 - accuracy: 1.0000 - val_loss: 0.0968 - val_accuracy: 0.9231\n",
            "Epoch 4/10\n",
            "8/8 [==============================] - 0s 25ms/step - loss: 0.0186 - accuracy: 1.0000 - val_loss: 0.1085 - val_accuracy: 0.9231\n",
            "Epoch 5/10\n",
            "8/8 [==============================] - 0s 22ms/step - loss: 0.0186 - accuracy: 1.0000 - val_loss: 0.0973 - val_accuracy: 0.9231\n",
            "Epoch 6/10\n",
            "8/8 [==============================] - 0s 25ms/step - loss: 0.0147 - accuracy: 1.0000 - val_loss: 0.0858 - val_accuracy: 0.9231\n",
            "Epoch 7/10\n",
            "8/8 [==============================] - 0s 24ms/step - loss: 0.0134 - accuracy: 1.0000 - val_loss: 0.0868 - val_accuracy: 0.9231\n",
            "Epoch 8/10\n",
            "8/8 [==============================] - 0s 23ms/step - loss: 0.0125 - accuracy: 1.0000 - val_loss: 0.0722 - val_accuracy: 1.0000\n",
            "Epoch 9/10\n",
            "8/8 [==============================] - 0s 23ms/step - loss: 0.0123 - accuracy: 1.0000 - val_loss: 0.0791 - val_accuracy: 0.9231\n",
            "Epoch 10/10\n",
            "8/8 [==============================] - 0s 22ms/step - loss: 0.0102 - accuracy: 1.0000 - val_loss: 0.0863 - val_accuracy: 0.9231\n"
          ]
        },
        {
          "output_type": "execute_result",
          "data": {
            "text/plain": [
              "<keras.src.callbacks.History at 0x7a87e51e7130>"
            ]
          },
          "metadata": {},
          "execution_count": 23
        }
      ]
    }
  ]
}